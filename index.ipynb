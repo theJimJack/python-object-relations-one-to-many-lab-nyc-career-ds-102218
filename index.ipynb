{
 "cells": [
  {
   "cell_type": "markdown",
   "metadata": {},
   "source": [
    "# Python Object Relationships - One to Many"
   ]
  },
  {
   "cell_type": "markdown",
   "metadata": {},
   "source": [
    "## Introduction\n",
    "In this lab we are going to practice creating a one to many relationship. We've learned how a belongs to relationship works -- with the \"belongs to\" class knowing the one instance it is associated with. Now, what if we think about it from the other side? Let's say we are talking about a `Person` class and a `Dog` class. We know the `Dog` belongs to one `Person`, but that doesn't mean the person can't have more than one dog, right?"
   ]
  },
  {
   "cell_type": "markdown",
   "metadata": {},
   "source": [
    "![dog gif](https://s3.amazonaws.com/learn-verified/data-science-assets/two-dogs.gif)"
   ]
  },
  {
   "cell_type": "markdown",
   "metadata": {},
   "source": [
    "So, a dog still needs to know who its owner is, but now we know that an owner can also have **many** dogs. Let's get started!"
   ]
  },
  {
   "cell_type": "markdown",
   "metadata": {},
   "source": [
    "## Objectives\n",
    "* Create a one to many domain model\n",
    "* Practice querying an instance to demonstrate the one to many relationship\n",
    "* Define a second one to many domain and create instance methods that again demonstrate the one to many relationship"
   ]
  },
  {
   "cell_type": "markdown",
   "metadata": {},
   "source": [
    "## Defining Our Classes"
   ]
  },
  {
   "cell_type": "markdown",
   "metadata": {},
   "source": [
    "Let's start by defining two classes, `Owner` and `Car`. \n",
    "* An owner should be instantiated with a `name` and an `age`. \n",
    "* A car should be instantiated with a `make`, `model`, and `year`. \n",
    "* The relationship between the two classes should be such that an owner has many cars and a car belongs to an owner. It is our job to make sure our classes and instances are set up to show this. \n",
    "* Think about which class(es) also must have an `_all` class variable, and be sure to have setter and getter (read and write) instance methods for each attribute for an owner and for a car as well as a class method that returns the `_all` list."
   ]
  },
  {
   "cell_type": "code",
   "execution_count": 1,
   "metadata": {},
   "outputs": [],
   "source": [
    "from owner import Owner\n",
    "jake = Owner(\"Jake\", 25)\n",
    "jess = Owner(\"Jess\", 29)\n",
    "alexa = Owner(\"Alexa\", 33)\n",
    "pete = Owner(\"Pete\", 30)"
   ]
  },
  {
   "cell_type": "code",
   "execution_count": 2,
   "metadata": {},
   "outputs": [],
   "source": [
    "from car import Car\n",
    "Taurus = Car(\"Ford\", 'Taurus',1997,pete.name)\n",
    "Jetta = Car(\"VW\",\"Jetta\", 2013,pete.name)\n",
    "TwnCntry = Car(\"Chrysler\",\"Town & Country\", 1995, alexa.name)\n",
    "Passat = Car(\"VW\",\"Passat\",2010, alexa.name)\n",
    "Odyssey = Car(\"Honda\",\"Odyssey\",2015)\n",
    "Prius = Car(\"Toyota\",\"Prius\",2009)\n",
    "F150 = Car(\"Ford\",\"F-150\",2018)\n",
    "\n",
    "# create several instances of the Car class and associate them to owners. \n",
    "# remember owners can have more than one car associated with them, but a car can only have one owner"
   ]
  },
  {
   "cell_type": "code",
   "execution_count": 3,
   "metadata": {
    "scrolled": true
   },
   "outputs": [
    {
     "data": {
      "text/plain": [
       "'Pete'"
      ]
     },
     "execution_count": 3,
     "metadata": {},
     "output_type": "execute_result"
    }
   ],
   "source": [
    "Car._all[0].owner\n",
    "# Car._all"
   ]
  },
  {
   "cell_type": "markdown",
   "metadata": {},
   "source": [
    "## Querying For Our Cars"
   ]
  },
  {
   "cell_type": "markdown",
   "metadata": {},
   "source": [
    "Okay, now that we have our classes set up, let's stat to work with them. Let's say Alexa and Pete both have several cars and it has gotten to the point that they are forgetting about some of them -- like when winter is over and you're re-discovering the bathing suits you stuffed into the abyss of your closet. Yes, Alexa and Pete are doing well for themselves.\n",
    "Since we don't want them to lose track of their cars, let's write an instance method that prints out the makes and models of each car that they own, respectively. Let's call this method `find_my_cars`. It should return a list of strings which are the name of the car's make concatenated with the car's model. (i.e. `[\"Toyota Highlander\", \"Audi Q7\", \"Jeep Wrangler\"]`)"
   ]
  },
  {
   "cell_type": "code",
   "execution_count": 4,
   "metadata": {},
   "outputs": [
    {
     "data": {
      "text/plain": [
       "['Chrysler Town & Country', 'VW Passat']"
      ]
     },
     "execution_count": 4,
     "metadata": {},
     "output_type": "execute_result"
    }
   ],
   "source": [
    "alexa.find_my_cars()"
   ]
  },
  {
   "cell_type": "code",
   "execution_count": 5,
   "metadata": {},
   "outputs": [
    {
     "data": {
      "text/plain": [
       "['Ford Taurus', 'VW Jetta']"
      ]
     },
     "execution_count": 5,
     "metadata": {},
     "output_type": "execute_result"
    }
   ],
   "source": [
    "pete.find_my_cars()"
   ]
  },
  {
   "cell_type": "markdown",
   "metadata": {},
   "source": [
    "Great work! Now, let's try this out with another domain to get even more practice. Let's work with a `Driver` and a `Trip` class. \n",
    "* The relationship between the two should be that a driver has many trips and that a trip belongs to one driver. \n",
    "* A driver should be instantiated with at least a *name* and a trip should be instantiated with at least a start and a destination (i.e. `battery park` to `central park`). \n",
    "* Remember a trip should know which **driver** it belongs to and the Trip class should keep track of all trip instances in the `_all` class variable. \n",
    "* Define the appropriate getter and setter instance methods for both the driver and trip instance objects as well as a class method, `all`, that returns the `_all` list. "
   ]
  },
  {
   "cell_type": "code",
   "execution_count": 6,
   "metadata": {},
   "outputs": [],
   "source": [
    "from driver import Driver\n",
    "steve = Driver(\"Steve\")\n",
    "danielle = Driver(\"Danielle\")\n",
    "hortense = Driver(\"Hortense\")"
   ]
  },
  {
   "cell_type": "code",
   "execution_count": 7,
   "metadata": {},
   "outputs": [],
   "source": [
    "from trip import Trip\n",
    "trip_1 = Trip('start_1', 'dest_1', steve.name)\n",
    "trip_2 = Trip('start_2', 'dest_2', danielle.name)\n",
    "trip_3 = Trip('start_3', 'dest_3', hortense.name)\n",
    "trip_4 = Trip('start_4', 'dest_4', hortense.name)\n",
    "trip_5 = Trip('start_5', 'dest_5', danielle.name)\n",
    "trip_6 = Trip('start_6', 'dest_6', steve.name)\n",
    "# create several instances of the Trip class and associate them to drivers. \n",
    "# remember to associate a trip with a driver"
   ]
  },
  {
   "cell_type": "markdown",
   "metadata": {},
   "source": [
    "Next, define a driver instance method that returns all the trips instance objects that a driver has given, let's call it `my_trips`. Then define an instance method that returns a list of strings that represent the trips start and end locations for each of those trips (i.e. `[home to work, work to movies]`). Let's call it `my_trip_summaries`."
   ]
  },
  {
   "cell_type": "code",
   "execution_count": 8,
   "metadata": {},
   "outputs": [
    {
     "data": {
      "text/plain": [
       "'start_1'"
      ]
     },
     "execution_count": 8,
     "metadata": {},
     "output_type": "execute_result"
    }
   ],
   "source": [
    "trip_1.start"
   ]
  },
  {
   "cell_type": "code",
   "execution_count": 9,
   "metadata": {
    "scrolled": true
   },
   "outputs": [
    {
     "data": {
      "text/plain": [
       "[{'trip start': 'start_3',\n",
       "  'trip destination': 'dest_3',\n",
       "  'driver name': 'Hortense'},\n",
       " {'trip start': 'start_4',\n",
       "  'trip destination': 'dest_4',\n",
       "  'driver name': 'Hortense'}]"
      ]
     },
     "execution_count": 9,
     "metadata": {},
     "output_type": "execute_result"
    }
   ],
   "source": [
    "hortense.my_trips()"
   ]
  },
  {
   "cell_type": "code",
   "execution_count": 10,
   "metadata": {},
   "outputs": [
    {
     "data": {
      "text/plain": [
       "[{'trip start': 'start_2',\n",
       "  'trip destination': 'dest_2',\n",
       "  'driver name': 'Danielle'},\n",
       " {'trip start': 'start_5',\n",
       "  'trip destination': 'dest_5',\n",
       "  'driver name': 'Danielle'}]"
      ]
     },
     "execution_count": 10,
     "metadata": {},
     "output_type": "execute_result"
    }
   ],
   "source": [
    "danielle.my_trips()"
   ]
  },
  {
   "cell_type": "code",
   "execution_count": 11,
   "metadata": {},
   "outputs": [],
   "source": [
    "steve.my_trip_summaries()"
   ]
  },
  {
   "cell_type": "markdown",
   "metadata": {},
   "source": [
    "## Summary\n",
    "Great work! In this lab we practiced creating one to many relationships. We built on the belongs to relationship and were able to make it a bit more interesting by associating more than one instance object with another. We reinforced our knowledge by building out two different one to many domains and built intance methods that returned and operated on the one to many relationships. "
   ]
  }
 ],
 "metadata": {
  "kernelspec": {
   "display_name": "Python 3",
   "language": "python",
   "name": "python3"
  },
  "language_info": {
   "codemirror_mode": {
    "name": "ipython",
    "version": 3
   },
   "file_extension": ".py",
   "mimetype": "text/x-python",
   "name": "python",
   "nbconvert_exporter": "python",
   "pygments_lexer": "ipython3",
   "version": "3.7.0"
  }
 },
 "nbformat": 4,
 "nbformat_minor": 2
}
